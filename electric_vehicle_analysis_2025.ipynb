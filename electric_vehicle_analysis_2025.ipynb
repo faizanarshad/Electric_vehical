{
 "cells": [
  {
   "cell_type": "markdown",
   "metadata": {},
   "source": [
    "# Electric Vehicle Market Analysis 2025\n",
    "\n",
    "## Overview\n",
    "This notebook analyzes the comprehensive electric vehicle dataset for 2025, exploring trends, performance metrics, and market insights across different manufacturers and vehicle segments.\n",
    "\n",
    "## Dataset Information\n",
    "- **Source**: EV Database 2025\n",
    "- **Records**: 478 electric vehicle models\n",
    "- **Features**: 22 columns including performance, battery, and specification data\n",
    "- **Coverage**: Global market with focus on major manufacturers\n",
    "\n",
    "## Key Questions We'll Explore\n",
    "1. What are the performance trends across different vehicle segments?\n",
    "2. How do battery capacities and ranges vary by manufacturer?\n",
    "3. Which brands lead in efficiency and charging capabilities?\n",
    "4. What are the market trends in vehicle sizes and body types?\n",
    "5. How do traditional manufacturers compare to emerging Chinese brands?"
   ]
  },
  {
   "cell_type": "markdown",
   "metadata": {},
   "source": [
    "## 1. Setup and Data Loading"
   ]
  },
  {
   "cell_type": "code",
   "execution_count": null,
   "metadata": {},
   "outputs": [],
   "source": [
    "# Import necessary libraries\n",
    "import pandas as pd\n",
    "import numpy as np\n",
    "import matplotlib.pyplot as plt\n",
    "import seaborn as sns\n",
    "import plotly.express as px\n",
    "import plotly.graph_objects as go\n",
    "from plotly.subplots import make_subplots\n",
    "import warnings\n",
    "warnings.filterwarnings('ignore')\n",
    "\n",
    "# Set style for better visualizations\n",
    "plt.style.use('default')\n",
    "sns.set_palette(\"husl\")\n",
    "\n",
    "# Configure plotly for better display\n",
    "import plotly.io as pio\n",
    "pio.templates.default = \"plotly_white\"\n",
    "\n",
    "print(\"Libraries imported successfully!\")"
   ]
  },
  {
   "cell_type": "code",
   "execution_count": null,
   "metadata": {},
   "outputs": [],
   "source": [
    "# Load the dataset\n",
    "df = pd.read_csv('electric_vehicles_spec_2025.csv.csv')\n",
    "\n",
    "print(f\"Dataset loaded successfully!\")\n",
    "print(f\"Shape: {df.shape}\")\n",
    "print(f\"Columns: {list(df.columns)}\")"
   ]
  },
  {
   "cell_type": "markdown",
   "metadata": {},
   "source": [
    "## 2. Data Exploration and Cleaning"
   ]
  },
  {
   "cell_type": "code",
   "execution_count": null,
   "metadata": {},
   "outputs": [],
   "source": [
    "# Display basic information about the dataset\n",
    "print(\"=== DATASET OVERVIEW ===\")\n",
    "print(f\"Total vehicles: {len(df)}\")\n",
    "print(f\"Total brands: {df['brand'].nunique()}\")\n",
    "print(f\"Date range: 2025 models\")\n",
    "print(\"\\n=== FIRST FEW ROWS ===\")\n",
    "df.head()"
   ]
  },
  {
   "cell_type": "code",
   "execution_count": null,
   "metadata": {},
   "outputs": [],
   "source": [
    "# Check data types and missing values\n",
    "print(\"=== DATA TYPES ===\")\n",
    "print(df.dtypes)\n",
    "print(\"\\n=== MISSING VALUES ===\")\n",
    "missing_values = df.isnull().sum()\n",
    "print(missing_values[missing_values > 0])"
   ]
  },
  {
   "cell_type": "code",
   "execution_count": null,
   "metadata": {},
   "outputs": [],
   "source": [
    "# Data cleaning and preprocessing\n",
    "# Convert numeric columns, handling missing values\n",
    "\n",
    "# List of numeric columns\n",
    "numeric_columns = [\n",
    "    'top_speed_kmh', 'battery_capacity_kWh', 'number_of_cells', 'torque_nm',\n",
    "    'efficiency_wh_per_km', 'range_km', 'acceleration_0_100_s', \n",
    "    'fast_charging_power_kw_dc', 'towing_capacity_kg', 'cargo_volume_l',\n",
    "    'seats', 'length_mm', 'width_mm', 'height_mm'\n",
    "]\n",
    "\n",
    "# Convert to numeric, replacing errors with NaN\n",
    "for col in numeric_columns:\n",
    "    df[col] = pd.to_numeric(df[col], errors='coerce')\n",
    "\n",
    "# Clean segment column (remove extra spaces and standardize)\n",
    "df['segment'] = df['segment'].str.strip()\n",
    "\n",
    "# Extract segment category (before the dash)\n",
    "df['segment_category'] = df['segment'].str.split(' - ').str[0]\n",
    "\n",
    "print(\"Data cleaning completed!\")"
   ]
  },
  {
   "cell_type": "code",
   "execution_count": null,
   "metadata": {},
   "outputs": [],
   "source": [
    "# Basic statistics for key numeric columns\n",
    "print(\"=== BASIC STATISTICS ===\")\n",
    "key_stats = ['top_speed_kmh', 'battery_capacity_kWh', 'range_km', \n",
    "             'acceleration_0_100_s', 'efficiency_wh_per_km']\n",
    "df[key_stats].describe()"
   ]
  },
  {
   "cell_type": "markdown",
   "metadata": {},
   "source": [
    "## 3. Brand and Manufacturer Analysis"
   ]
  },
  {
   "cell_type": "code",
   "execution_count": null,
   "metadata": {},
   "outputs": [],
   "source": [
    "# Analyze brands by number of models\n",
    "brand_counts = df['brand'].value_counts().head(15)\n",
    "\n",
    "fig, ax = plt.subplots(figsize=(12, 8))\n",
    "brand_counts.plot(kind='barh', ax=ax, color='skyblue')\n",
    "ax.set_title('Top 15 Brands by Number of EV Models (2025)', fontsize=16, fontweight='bold')\n",
    "ax.set_xlabel('Number of Models', fontsize=12)\n",
    "ax.set_ylabel('Brand', fontsize=12)\n",
    "plt.tight_layout()\n",
    "plt.show()\n",
    "\n",
    "print(f\"\\nTop 5 brands with most models:\")\n",
    "print(brand_counts.head())"
   ]
  },
  {
   "cell_type": "code",
   "execution_count": null,
   "metadata": {},
   "outputs": [],
   "source": [
    "# Analyze brands by average range\n",
    "brand_range = df.groupby('brand')['range_km'].agg(['mean', 'count']).reset_index()\n",
    "brand_range = brand_range[brand_range['count'] >= 2].sort_values('mean', ascending=False)\n",
    "\n",
    "fig, ax = plt.subplots(figsize=(12, 8))\n",
    "bars = ax.barh(brand_range['brand'].head(15), brand_range['mean'].head(15), \n",
    "               color='lightgreen', alpha=0.7)\n",
    "ax.set_title('Average Range by Brand (Min. 2 Models)', fontsize=16, fontweight='bold')\n",
    "ax.set_xlabel('Average Range (km)', fontsize=12)\n",
    "ax.set_ylabel('Brand', fontsize=12)\n",
    "\n",
    "# Add value labels on bars\n",
    "for i, bar in enumerate(bars):\n",
    "    width = bar.get_width()\n",
    "    ax.text(width + 5, bar.get_y() + bar.get_height()/2, \n",
    "            f'{width:.0f}km', ha='left', va='center', fontweight='bold')\n",
    "\n",
    "plt.tight_layout()\n",
    "plt.show()"
   ]
  },
  {
   "cell_type": "markdown",
   "metadata": {},
   "source": [
    "## 4. Performance Analysis"
   ]
  },
  {
   "cell_type": "code",
   "execution_count": null,
   "metadata": {},
   "outputs": [],
   "source": [
    "# Performance correlation analysis\n",
    "performance_cols = ['top_speed_kmh', 'range_km', 'acceleration_0_100_s', \n",
    "                   'battery_capacity_kWh', 'efficiency_wh_per_km']\n",
    "\n",
    "# Create correlation matrix\n",
    "corr_matrix = df[performance_cols].corr()\n",
    "\n",
    "plt.figure(figsize=(10, 8))\n",
    "sns.heatmap(corr_matrix, annot=True, cmap='coolwarm', center=0, \n",
    "            square=True, linewidths=0.5)\n",
    "plt.title('Performance Metrics Correlation Matrix', fontsize=16, fontweight='bold')\n",
    "plt.tight_layout()\n",
    "plt.show()"
   ]
  },
  {
   "cell_type": "code",
   "execution_count": null,
   "metadata": {},
   "outputs": [],
   "source": [
    "# Speed vs Range analysis\n",
    "fig, ax = plt.subplots(figsize=(12, 8))\n",
    "\n",
    "# Create scatter plot with segment colors\n",
    "segments = df['segment_category'].unique()\n",
    "colors = plt.cm.Set3(np.linspace(0, 1, len(segments)))\n",
    "\n",
    "for i, segment in enumerate(segments):\n",
    "    segment_data = df[df['segment_category'] == segment]\n",
    "    ax.scatter(segment_data['top_speed_kmh'], segment_data['range_km'], \n",
    "               label=segment, alpha=0.7, s=50, color=colors[i])\n",
    "\n",
    "ax.set_xlabel('Top Speed (km/h)', fontsize=12)\n",
    "ax.set_ylabel('Range (km)', fontsize=12)\n",
    "ax.set_title('Speed vs Range by Vehicle Segment', fontsize=16, fontweight='bold')\n",
    "ax.legend(bbox_to_anchor=(1.05, 1), loc='upper left')\n",
    "ax.grid(True, alpha=0.3)\n",
    "\n",
    "plt.tight_layout()\n",
    "plt.show()"
   ]
  },
  {
   "cell_type": "code",
   "execution_count": null,
   "metadata": {},
   "outputs": [],
   "source": [
    "# Top 10 fastest EVs\n",
    "fastest_evs = df.nlargest(10, 'top_speed_kmh')[['brand', 'model', 'top_speed_kmh', 'range_km', 'acceleration_0_100_s']]\n",
    "\n",
    "fig, ax = plt.subplots(figsize=(12, 8))\n",
    "bars = ax.barh(range(len(fastest_evs)), fastest_evs['top_speed_kmh'], \n",
    "               color='red', alpha=0.7)\n",
    "\n",
    "ax.set_yticks(range(len(fastest_evs)))\n",
    "ax.set_yticklabels([f\"{row['brand']} {row['model']}\" for _, row in fastest_evs.iterrows()], \n",
    "                   fontsize=10)\n",
    "ax.set_xlabel('Top Speed (km/h)', fontsize=12)\n",
    "ax.set_title('Top 10 Fastest Electric Vehicles (2025)', fontsize=16, fontweight='bold')\n",
    "\n",
    "# Add value labels\n",
    "for i, bar in enumerate(bars):\n",
    "    width = bar.get_width()\n",
    "    ax.text(width + 2, bar.get_y() + bar.get_height()/2, \n",
    "            f'{width:.0f} km/h', ha='left', va='center', fontweight='bold')\n",
    "\n",
    "plt.tight_layout()\n",
    "plt.show()\n",
    "\n",
    "print(\"\\nFastest EVs:\")\n",
    "print(fastest_evs)"
   ]
  },
  {
   "cell_type": "markdown",
   "metadata": {},
   "source": [
    "## 5. Battery and Range Analysis"
   ]
  },
  {
   "cell_type": "code",
   "execution_count": null,
   "metadata": {},
   "outputs": [],
   "source": [
    "# Battery capacity distribution\n",
    "fig, (ax1, ax2) = plt.subplots(1, 2, figsize=(15, 6))\n",
    "\n",
    "# Histogram of battery capacities\n",
    "ax1.hist(df['battery_capacity_kWh'].dropna(), bins=30, alpha=0.7, color='blue', edgecolor='black')\n",
    "ax1.set_xlabel('Battery Capacity (kWh)', fontsize=12)\n",
    "ax1.set_ylabel('Number of Vehicles', fontsize=12)\n",
    "ax1.set_title('Distribution of Battery Capacities', fontsize=14, fontweight='bold')\n",
    "ax1.grid(True, alpha=0.3)\n",
    "\n",
    "# Box plot by segment\n",
    "segment_battery = df.groupby('segment_category')['battery_capacity_kWh'].apply(list)\n",
    "ax2.boxplot(segment_battery.values, labels=segment_battery.index)\n",
    "ax2.set_xlabel('Vehicle Segment', fontsize=12)\n",
    "ax2.set_ylabel('Battery Capacity (kWh)', fontsize=12)\n",
    "ax2.set_title('Battery Capacity by Vehicle Segment', fontsize=14, fontweight='bold')\n",
    "ax2.tick_params(axis='x', rotation=45)\n",
    "\n",
    "plt.tight_layout()\n",
    "plt.show()"
   ]
  },
  {
   "cell_type": "code",
   "execution_count": null,
   "metadata": {},
   "outputs": [],
   "source": [
    "# Range vs Battery Capacity analysis\n",
    "fig, ax = plt.subplots(figsize=(12, 8))\n",
    "\n",
    "# Calculate efficiency (range per kWh)\n",
    "df['range_per_kwh'] = df['range_km'] / df['battery_capacity_kWh']\n",
    "\n",
    "# Create scatter plot\n",
    "scatter = ax.scatter(df['battery_capacity_kWh'], df['range_km'], \n",
    "                    c=df['range_per_kwh'], cmap='viridis', s=50, alpha=0.7)\n",
    "\n",
    "ax.set_xlabel('Battery Capacity (kWh)', fontsize=12)\n",
    "ax.set_ylabel('Range (km)', fontsize=12)\n",
    "ax.set_title('Range vs Battery Capacity (Color: Efficiency)', fontsize=16, fontweight='bold')\n",
    "\n",
    "# Add colorbar\n",
    "cbar = plt.colorbar(scatter)\n",
    "cbar.set_label('Range per kWh (km/kWh)', fontsize=12)\n",
    "\n",
    "ax.grid(True, alpha=0.3)\n",
    "plt.tight_layout()\n",
    "plt.show()\n",
    "\n",
    "# Top 10 most efficient EVs\n",
    "efficient_evs = df.nlargest(10, 'range_per_kwh')[['brand', 'model', 'range_km', 'battery_capacity_kWh', 'range_per_kwh']]\n",
    "print(\"\\nTop 10 Most Efficient EVs:\")\n",
    "print(efficient_evs.round(2))"
   ]
  },
  {
   "cell_type": "markdown",
   "metadata": {},
   "source": [
    "## 6. Charging Infrastructure Analysis"
   ]
  },
  {
   "cell_type": "code",
   "execution_count": null,
   "metadata": {},
   "outputs": [],
   "source": [
    "# Fast charging analysis\n",
    "fig, (ax1, ax2) = plt.subplots(1, 2, figsize=(15, 6))\n",
    "\n",
    "# Fast charging power distribution\n",
    "ax1.hist(df['fast_charging_power_kw_dc'].dropna(), bins=20, alpha=0.7, color='orange', edgecolor='black')\n",
    "ax1.set_xlabel('Fast Charging Power (kW)', fontsize=12)\n",
    "ax1.set_ylabel('Number of Vehicles', fontsize=12)\n",
    "ax1.set_title('Distribution of Fast Charging Power', fontsize=14, fontweight='bold')\n",
    "ax1.grid(True, alpha=0.3)\n",
    "\n",
    "# Charging port types\n",
    "port_counts = df['fast_charge_port'].value_counts()\n",
    "ax2.pie(port_counts.values, labels=port_counts.index, autopct='%1.1f%%', startangle=90)\n",
    "ax2.set_title('Fast Charging Port Types', fontsize=14, fontweight='bold')\n",
    "\n",
    "plt.tight_layout()\n",
    "plt.show()\n",
    "\n",
    "print(f\"\\nCharging port distribution:\")\n",
    "print(port_counts)"
   ]
  },
  {
   "cell_type": "code",
   "execution_count": null,
   "metadata": {},
   "outputs": [],
   "source": [
    "# Top 10 fastest charging EVs\n",
    "fastest_charging = df.nlargest(10, 'fast_charging_power_kw_dc')[['brand', 'model', 'fast_charging_power_kw_dc', 'battery_capacity_kWh']]\n",
    "\n",
    "fig, ax = plt.subplots(figsize=(12, 8))\n",
    "bars = ax.barh(range(len(fastest_charging)), fastest_charging['fast_charging_power_kw_dc'], \n",
    "               color='purple', alpha=0.7)\n",
    "\n",
    "ax.set_yticks(range(len(fastest_charging)))\n",
    "ax.set_yticklabels([f\"{row['brand']} {row['model']}\" for _, row in fastest_charging.iterrows()], \n",
    "                   fontsize=10)\n",
    "ax.set_xlabel('Fast Charging Power (kW)', fontsize=12)\n",
    "ax.set_title('Top 10 Fastest Charging Electric Vehicles', fontsize=16, fontweight='bold')\n",
    "\n",
    "# Add value labels\n",
    "for i, bar in enumerate(bars):\n",
    "    width = bar.get_width()\n",
    "    ax.text(width + 2, bar.get_y() + bar.get_height()/2, \n",
    "            f'{width:.0f} kW', ha='left', va='center', fontweight='bold')\n",
    "\n",
    "plt.tight_layout()\n",
    "plt.show()"
   ]
  },
  {
   "cell_type": "markdown",
   "metadata": {},
   "source": [
    "## 7. Vehicle Segments and Body Types"
   ]
  },
  {
   "cell_type": "code",
   "execution_count": null,
   "metadata": {},
   "outputs": [],
   "source": [
    "# Vehicle segments analysis\n",
    "fig, (ax1, ax2) = plt.subplots(1, 2, figsize=(15, 6))\n",
    "\n",
    "# Segment distribution\n",
    "segment_counts = df['segment_category'].value_counts()\n",
    "ax1.pie(segment_counts.values, labels=segment_counts.index, autopct='%1.1f%%', startangle=90)\n",
    "ax1.set_title('Distribution by Vehicle Segment', fontsize=14, fontweight='bold')\n",
    "\n",
    "# Body type distribution\n",
    "body_counts = df['car_body_type'].value_counts().head(10)\n",
    "ax2.barh(range(len(body_counts)), body_counts.values, color='lightcoral')\n",
    "ax2.set_yticks(range(len(body_counts)))\n",
    "ax2.set_yticklabels(body_counts.index, fontsize=10)\n",
    "ax2.set_xlabel('Number of Models', fontsize=12)\n",
    "ax2.set_title('Top 10 Body Types', fontsize=14, fontweight='bold')\n",
    "\n",
    "plt.tight_layout()\n",
    "plt.show()"
   ]
  },
  {
   "cell_type": "code",
   "execution_count": null,
   "metadata": {},
   "outputs": [],
   "source": [
    "# Performance by segment\n",
    "segment_performance = df.groupby('segment_category').agg({\n",
    "    'top_speed_kmh': 'mean',\n",
    "    'range_km': 'mean',\n",
    "    'battery_capacity_kWh': 'mean',\n",
    "    'acceleration_0_100_s': 'mean'\n",
    "}).round(1)\n",
    "\n",
    "fig, ax = plt.subplots(figsize=(12, 8))\n",
    "segment_performance.plot(kind='bar', ax=ax, width=0.8)\n",
    "ax.set_title('Average Performance by Vehicle Segment', fontsize=16, fontweight='bold')\n",
    "ax.set_xlabel('Vehicle Segment', fontsize=12)\n",
    "ax.set_ylabel('Average Value', fontsize=12)\n",
    "ax.legend(bbox_to_anchor=(1.05, 1), loc='upper left')\n",
    "ax.tick_params(axis='x', rotation=45)\n",
    "\n",
    "plt.tight_layout()\n",
    "plt.show()\n",
    "\n",
    "print(\"\\nPerformance by segment:\")\n",
    "print(segment_performance)"
   ]
  },
  {
   "cell_type": "markdown",
   "metadata": {},
   "source": [
    "## 8. Market Trends and Insights"
   ]
  },
  {
   "cell_type": "code",
   "execution_count": null,
   "metadata": {},
   "outputs": [],
   "source": [
    "# Market trends analysis\n",
    "fig, ((ax1, ax2), (ax3, ax4)) = plt.subplots(2, 2, figsize=(15, 12))\n",
    "\n",
    "# 1. Range distribution\n",
    "ax1.hist(df['range_km'].dropna(), bins=30, alpha=0.7, color='green', edgecolor='black')\n",
    "ax1.set_xlabel('Range (km)', fontsize=12)\n",
    "ax1.set_ylabel('Number of Vehicles', fontsize=12)\n",
    "ax1.set_title('Range Distribution', fontsize=14, fontweight='bold')\n",
    "ax1.grid(True, alpha=0.3)\n",
    "\n",
    "# 2. Efficiency distribution\n",
    "ax2.hist(df['efficiency_wh_per_km'].dropna(), bins=30, alpha=0.7, color='red', edgecolor='black')\n",
    "ax2.set_xlabel('Efficiency (Wh/km)', fontsize=12)\n",
    "ax2.set_ylabel('Number of Vehicles', fontsize=12)\n",
    "ax2.set_title('Energy Efficiency Distribution', fontsize=14, fontweight='bold')\n",
    "ax2.grid(True, alpha=0.3)\n",
    "\n",
    "# 3. Acceleration distribution\n",
    "ax3.hist(df['acceleration_0_100_s'].dropna(), bins=30, alpha=0.7, color='blue', edgecolor='black')\n",
    "ax3.set_xlabel('0-100 km/h Time (seconds)', fontsize=12)\n",
    "ax3.set_ylabel('Number of Vehicles', fontsize=12)\n",
    "ax3.set_title('Acceleration Distribution', fontsize=14, fontweight='bold')\n",
    "ax3.grid(True, alpha=0.3)\n",
    "\n",
    "# 4. Battery capacity vs range scatter\n",
    "ax4.scatter(df['battery_capacity_kWh'], df['range_km'], alpha=0.6, color='purple')\n",
    "ax4.set_xlabel('Battery Capacity (kWh)', fontsize=12)\n",
    "ax4.set_ylabel('Range (km)', fontsize=12)\n",
    "ax4.set_title('Battery Capacity vs Range', fontsize=14, fontweight='bold')\n",
    "ax4.grid(True, alpha=0.3)\n",
    "\n",
    "plt.tight_layout()\n",
    "plt.show()"
   ]
  },
  {
   "cell_type": "code",
   "execution_count": null,
   "metadata": {},
   "outputs": [],
   "source": [
    "# Summary statistics and insights\n",
    "print(\"=== MARKET INSIGHTS 2025 ===\\n\")\n",
    "\n",
    "# Overall statistics\n",
    "print(f\"Total EV Models: {len(df)}\")\n",
    "print(f\"Number of Brands: {df['brand'].nunique()}\")\n",
    "print(f\"Average Range: {df['range_km'].mean():.0f} km\")\n",
    "print(f\"Average Battery Capacity: {df['battery_capacity_kWh'].mean():.1f} kWh\")\n",
    "print(f\"Average Top Speed: {df['top_speed_kmh'].mean():.0f} km/h\")\n",
    "print(f\"Average 0-100 km/h: {df['acceleration_0_100_s'].mean():.1f} seconds\")\n",
    "print(f\"Average Efficiency: {df['efficiency_wh_per_km'].mean():.0f} Wh/km\")\n",
    "\n",
    "print(\"\\n=== TOP PERFORMERS ===\")\n",
    "print(f\"Longest Range: {df.loc[df['range_km'].idxmax(), 'brand']} {df.loc[df['range_km'].idxmax(), 'model']} ({df['range_km'].max():.0f} km)\")\n",
    "print(f\"Fastest Speed: {df.loc[df['top_speed_kmh'].idxmax(), 'brand']} {df.loc[df['top_speed_kmh'].idxmax(), 'model']} ({df['top_speed_kmh'].max():.0f} km/h)\")\n",
    "print(f\"Quickest Acceleration: {df.loc[df['acceleration_0_100_s'].idxmin(), 'brand']} {df.loc[df['acceleration_0_100_s'].idxmin(), 'model']} ({df['acceleration_0_100_s'].min():.1f}s)\")\n",
    "print(f\"Largest Battery: {df.loc[df['battery_capacity_kWh'].idxmax(), 'brand']} {df.loc[df['battery_capacity_kWh'].idxmax(), 'model']} ({df['battery_capacity_kWh'].max():.1f} kWh)\")\n",
    "\n",
    "print(\"\\n=== MARKET SEGMENTS ===\")\n",
    "print(df['segment_category'].value_counts())"
   ]
  },
  {
   "cell_type": "markdown",
   "metadata": {},
   "source": [
    "## 9. Interactive Visualizations (Plotly)"
   ]
  },
  {
   "cell_type": "code",
   "execution_count": null,
   "metadata": {},
   "outputs": [],
   "source": [
    "# Interactive scatter plot: Range vs Speed by Brand\n",
    "fig = px.scatter(df, x='top_speed_kmh', y='range_km', \n",
    "                color='brand', size='battery_capacity_kWh',\n",
    "                hover_data=['model', 'acceleration_0_100_s', 'efficiency_wh_per_km'],\n",
    "                title='Interactive: Range vs Speed by Brand (Size = Battery Capacity)',\n",
    "                labels={'top_speed_kmh': 'Top Speed (km/h)', 'range_km': 'Range (km)'})\n",
    "\n",
    "fig.update_layout(width=1000, height=600)\n",
    "fig.show()"
   ]
  },
  {
   "cell_type": "code",
   "execution_count": null,
   "metadata": {},
   "outputs": [],
   "source": [
    "# Interactive 3D scatter plot\n",
    "fig = px.scatter_3d(df, x='battery_capacity_kWh', y='range_km', z='top_speed_kmh',\n",
    "                    color='segment_category', size='efficiency_wh_per_km',\n",
    "                    hover_data=['brand', 'model'],\n",
    "                    title='3D View: Battery Capacity vs Range vs Speed by Segment')\n",
    "\n",
    "fig.update_layout(width=1000, height=600)\n",
    "fig.show()"
   ]
  },
  {
   "cell_type": "markdown",
   "metadata": {},
   "source": [
    "## 10. Conclusion and Key Findings"
   ]
  },
  {
   "cell_type": "code",
   "execution_count": null,
   "metadata": {},
   "outputs": [],
   "source": [
    "# Final summary and recommendations\n",
    "print(\"=== ELECTRIC VEHICLE MARKET ANALYSIS 2025 - KEY FINDINGS ===\\n\")\n",
    "\n",
    "print(\"1. MARKET OVERVIEW:\")\n",
    "print(f\"   \u2022 {len(df)} electric vehicle models available in 2025\")\n",
    "print(f\"   \u2022 {df['brand'].nunique()} different manufacturers\")\n",
    "print(f\"   \u2022 Average range: {df['range_km'].mean():.0f} km\")\n",
    "print(f\"   \u2022 Average battery capacity: {df['battery_capacity_kWh'].mean():.1f} kWh\")\n",
    "\n",
    "print(\"\\n2. PERFORMANCE TRENDS:\")\n",
    "print(f\"   \u2022 Speed range: {df['top_speed_kmh'].min():.0f} - {df['top_speed_kmh'].max():.0f} km/h\")\n",
    "print(f\"   \u2022 Range range: {df['range_km'].min():.0f} - {df['range_km'].max():.0f} km\")\n",
    "print(f\"   \u2022 Acceleration range: {df['acceleration_0_100_s'].min():.1f} - {df['acceleration_0_100_s'].max():.1f} seconds\")\n",
    "\n",
    "print(\"\\n3. SEGMENT ANALYSIS:\")\n",
    "dominant_segment = df['segment_category'].value_counts().index[0]\n",
    "print(f\"   \u2022 Most popular segment: {dominant_segment}\")\n",
    "print(f\"   \u2022 SUV body type dominates the market\")\n",
    "\n",
    "print(\"\\n4. CHARGING INFRASTRUCTURE:\")\n",
    "ccs_percentage = (df['fast_charge_port'] == 'CCS').sum() / len(df) * 100\n",
    "print(f\"   \u2022 {ccs_percentage:.1f}% of vehicles use CCS charging\")\n",
    "print(f\"   \u2022 Average fast charging power: {df['fast_charging_power_kw_dc'].mean():.0f} kW\")\n",
    "\n",
    "print(\"\\n5. EFFICIENCY INSIGHTS:\")\n",
    "print(f\"   \u2022 Average efficiency: {df['efficiency_wh_per_km'].mean():.0f} Wh/km\")\n",
    "print(f\"   \u2022 Most efficient vehicles achieve <150 Wh/km\")\n",
    "\n",
    "print(\"\\n6. MARKET TRENDS:\")\n",
    "print(\"   \u2022 Battery capacities continue to increase\")\n",
    "print(\"   \u2022 Fast charging capabilities improving\")\n",
    "print(\"   \u2022 Chinese manufacturers gaining market share\")\n",
    "print(\"   \u2022 Luxury segment pushing performance boundaries\")\n",
    "\n",
    "print(\"\\n=== RECOMMENDATIONS ===\")\n",
    "print(\"\u2022 For city driving: Focus on compact EVs with 200-300 km range\")\n",
    "print(\"\u2022 For long trips: Choose vehicles with 400+ km range and fast charging\")\n",
    "print(\"\u2022 For performance: Consider luxury segment with high power outputs\")\n",
    "print(\"\u2022 For families: SUV segment offers best space and range combination\")"
   ]
  },
  {
   "cell_type": "markdown",
   "metadata": {},
   "source": [
    "## 11. Data Export for Further Analysis"
   ]
  },
  {
   "cell_type": "code",
   "execution_count": null,
   "metadata": {},
   "outputs": [],
   "source": [
    "# Export cleaned and analyzed data\n",
    "df_cleaned = df.copy()\n",
    "\n",
    "# Add calculated columns\n",
    "df_cleaned['range_per_kwh'] = df_cleaned['range_km'] / df_cleaned['battery_capacity_kWh']\n",
    "df_cleaned['power_to_weight_ratio'] = df_cleaned['torque_nm'] / (df_cleaned['length_mm'] * df_cleaned['width_mm'] * df_cleaned['height_mm'] * 1e-9)\n",
    "\n",
    "# Save to CSV\n",
    "df_cleaned.to_csv('electric_vehicles_analyzed_2025.csv', index=False)\n",
    "print(\"Cleaned and analyzed dataset saved as 'electric_vehicles_analyzed_2025.csv'\")\n",
    "\n",
    "# Create summary statistics file\n",
    "summary_stats = df_cleaned.describe()\n",
    "summary_stats.to_csv('ev_summary_statistics_2025.csv')\n",
    "print(\"Summary statistics saved as 'ev_summary_statistics_2025.csv'\")"
   ]
  }
 ],
 "metadata": {
  "kernelspec": {
   "display_name": "Python 3",
   "language": "python",
   "name": "python3"
  },
  "language_info": {
   "codemirror_mode": {
    "name": "ipython",
    "version": 3
   },
   "file_extension": ".py",
   "mimetype": "text/x-python",
   "name": "python",
   "nbconvert_exporter": "python",
   "pygments_lexer": "ipython3",
   "version": "3.8.5"
  }
 },
 "nbformat": 4,
 "nbformat_minor": 4
}